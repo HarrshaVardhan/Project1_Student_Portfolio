{
 "cells": [
  {
   "cell_type": "code",
   "execution_count": 1,
   "metadata": {},
   "outputs": [
    {
     "name": "stdin",
     "output_type": "stream",
     "text": [
      "Enter Name of the Student :  Harsha\n",
      "Enter Student Class/Std :  10\n",
      "Enter Student Roll No :  15308\n",
      "Enter Computer Science :  98\n",
      "Enter English :  98\n",
      "Enter Kannada :  98\n"
     ]
    },
    {
     "name": "stdout",
     "output_type": "stream",
     "text": [
      "Total Marks :  294\n",
      "Percentage :  98.0\n"
     ]
    }
   ],
   "source": [
    "name=input(\"Enter Name of the Student : \")\n",
    "std=input(\"Enter Student Class/Std : \")\n",
    "rollno=int(input(\"Enter Student Roll No : \"))  #type only integer\n",
    "sub1=int(input(\"Enter Computer Science : \"))\n",
    "sub2=int(input(\"Enter English : \"))\n",
    "sub3=int(input(\"Enter Telugu : \"))\n",
    "\n",
    "total=sub1+sub2+sub3\n",
    "print(\"Total Marks : \",total)\n",
    "\n",
    "percentage = total/300*100\n",
    "print(\"Percentage : \", percentage) \n"
   ]
  },
  {
   "cell_type": "code",
   "execution_count": null,
   "metadata": {},
   "outputs": [],
   "source": []
  }
 ],
 "metadata": {
  "kernelspec": {
   "display_name": "Python 3",
   "language": "python",
   "name": "python3"
  },
  "language_info": {
   "codemirror_mode": {
    "name": "ipython",
    "version": 3
   },
   "file_extension": ".py",
   "mimetype": "text/x-python",
   "name": "python",
   "nbconvert_exporter": "python",
   "pygments_lexer": "ipython3",
   "version": "3.8.5"
  }
 },
 "nbformat": 4,
 "nbformat_minor": 4
}
